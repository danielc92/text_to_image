{
 "cells": [
  {
   "cell_type": "markdown",
   "metadata": {},
   "source": [
    "# Saving Text to Image"
   ]
  },
  {
   "cell_type": "code",
   "execution_count": 1,
   "metadata": {},
   "outputs": [],
   "source": [
    "from PIL import Image, ImageDraw, ImageFont\n",
    "import hashlib\n",
    "import uuid"
   ]
  },
  {
   "cell_type": "code",
   "execution_count": 2,
   "metadata": {},
   "outputs": [],
   "source": [
    "def text_to_image(text, \n",
    "                  font_location = \"/Library/Fonts/Roboto-Black.ttf\",\n",
    "                  foreground_rgb = (0,0,0),\n",
    "                  background_rgb = (255,255,255),\n",
    "                  font_size = 16,\n",
    "                  image_size = (80,20)):\n",
    "\n",
    "    # Generate a random image name\n",
    "    image_name = hashlib.sha256(str(uuid.uuid4()).encode('ascii')).hexdigest()\n",
    "    \n",
    "    # Generate image and export\n",
    "    image = Image.new('RGB', size = image_size,color = background_rgb)\n",
    "    draw = ImageDraw.Draw(image)\n",
    "    font = ImageFont.truetype(font_location, font_size)\n",
    "    draw.text((0,0), text, font = font, fill = foreground_rgb)\n",
    "    \n",
    "    # Save Image\n",
    "    image.save('./output/{}.png'.format(image_name))"
   ]
  },
  {
   "cell_type": "markdown",
   "metadata": {},
   "source": [
    "### Single use"
   ]
  },
  {
   "cell_type": "code",
   "execution_count": 4,
   "metadata": {},
   "outputs": [],
   "source": [
    "text_to_image(text = \"alskfjne\", \n",
    "              font_location = \"/Library/Fonts/Roboto-Black.ttf\",\n",
    "              foreground_rgb = (0,0,0),\n",
    "              background_rgb = (255,255,255),\n",
    "              font_size = 16,\n",
    "              image_size = (80,20))"
   ]
  },
  {
   "cell_type": "markdown",
   "metadata": {},
   "source": [
    "### Multiple use"
   ]
  },
  {
   "cell_type": "code",
   "execution_count": 5,
   "metadata": {},
   "outputs": [],
   "source": [
    "items = ['rabbits', 'carrots', 'borroughs', 'fields', 'flowers']"
   ]
  },
  {
   "cell_type": "code",
   "execution_count": 6,
   "metadata": {},
   "outputs": [],
   "source": [
    "for item in items:\n",
    "    text_to_image(text = item, \n",
    "                  font_location = \"/Library/Fonts/Roboto-Black.ttf\",\n",
    "                  foreground_rgb = (0,0,0),\n",
    "                  background_rgb = (255,255,255),\n",
    "                  font_size = 16,\n",
    "                  image_size = (80,20))"
   ]
  }
 ],
 "metadata": {
  "kernelspec": {
   "display_name": "Python 3",
   "language": "python",
   "name": "python3"
  },
  "language_info": {
   "codemirror_mode": {
    "name": "ipython",
    "version": 3
   },
   "file_extension": ".py",
   "mimetype": "text/x-python",
   "name": "python",
   "nbconvert_exporter": "python",
   "pygments_lexer": "ipython3",
   "version": "3.6.5"
  },
  "toc": {
   "base_numbering": 1,
   "nav_menu": {},
   "number_sections": true,
   "sideBar": true,
   "skip_h1_title": false,
   "title_cell": "Table of Contents",
   "title_sidebar": "Contents",
   "toc_cell": false,
   "toc_position": {},
   "toc_section_display": true,
   "toc_window_display": false
  }
 },
 "nbformat": 4,
 "nbformat_minor": 2
}
